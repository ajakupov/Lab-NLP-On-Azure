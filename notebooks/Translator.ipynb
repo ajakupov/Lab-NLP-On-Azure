{
 "cells": [
  {
   "cell_type": "code",
   "execution_count": 9,
   "metadata": {
    "application/vnd.databricks.v1+cell": {
     "inputWidgets": {},
     "nuid": "04603a7c-c2f5-49c2-968c-f536866298f5",
     "showTitle": false,
     "title": ""
    }
   },
   "outputs": [],
   "source": [
    "import requests, uuid, json\n",
    "import pandas as pd"
   ]
  },
  {
   "cell_type": "code",
   "execution_count": 10,
   "metadata": {
    "application/vnd.databricks.v1+cell": {
     "inputWidgets": {},
     "nuid": "bc2eb9dc-1214-4ad8-ac62-e91fdce14dec",
     "showTitle": false,
     "title": ""
    }
   },
   "outputs": [
    {
     "name": "stdout",
     "output_type": "stream",
     "text": [
      "[\n",
      "    {\n",
      "        \"translations\": [\n",
      "            {\n",
      "                \"text\": \"Salut tout le monde!\",\n",
      "                \"to\": \"fr\"\n",
      "            },\n",
      "            {\n",
      "                \"text\": \"Сәлемет пе әлем!\",\n",
      "                \"to\": \"kk\"\n",
      "            }\n",
      "        ]\n",
      "    }\n",
      "]\n"
     ]
    }
   ],
   "source": [
    "# Add your subscription key and endpoint\n",
    "subscription_key = \"\"\n",
    "endpoint = \"\"\n",
    "\n",
    "# Add your location, also known as region. The default is global.\n",
    "# This is required if using a Cognitive Services resource.\n",
    "location = \"eastus\"\n",
    "\n",
    "path = '/translate'\n",
    "constructed_url = endpoint + path\n",
    "\n",
    "params = {\n",
    "    'api-version': '3.0',\n",
    "    'from': 'en',\n",
    "    'to': ['fr', 'kk']\n",
    "}\n",
    "constructed_url = endpoint + path\n",
    "\n",
    "headers = {\n",
    "    'Ocp-Apim-Subscription-Key': subscription_key,\n",
    "    'Ocp-Apim-Subscription-Region': location,\n",
    "    'Content-type': 'application/json',\n",
    "    'X-ClientTraceId': str(uuid.uuid4())\n",
    "}\n",
    "\n",
    "# You can pass more than one object in body.\n",
    "body = [{\n",
    "    'text': 'Hello World!'\n",
    "}]\n",
    "\n",
    "request = requests.post(constructed_url, params=params, headers=headers, json=body)\n",
    "response = request.json()\n",
    "\n",
    "print(json.dumps(response, sort_keys=True, ensure_ascii=False, indent=4, separators=(',', ': ')))"
   ]
  },
  {
   "cell_type": "code",
   "execution_count": 12,
   "metadata": {
    "application/vnd.databricks.v1+cell": {
     "inputWidgets": {},
     "nuid": "ceaee41a-b790-423f-b985-ee1c917bb946",
     "showTitle": false,
     "title": ""
    }
   },
   "outputs": [],
   "source": [
    "tweets = pd.read_csv(\"../data/twitter_train.csv\")"
   ]
  },
  {
   "cell_type": "code",
   "execution_count": 15,
   "metadata": {
    "application/vnd.databricks.v1+cell": {
     "inputWidgets": {},
     "nuid": "924d39ab-c4bf-46f3-8685-0f215cd5bb63",
     "showTitle": false,
     "title": ""
    }
   },
   "outputs": [],
   "source": [
    "def translate_column(df):\n",
    "  body = []\n",
    "  for tweet in df['tweet']:\n",
    "    body.append({'text':tweet})\n",
    "  # Add your subscription key and endpoint\n",
    "  subscription_key = \"\"\n",
    "  endpoint = \"\"\n",
    "\n",
    "  # Add your location, also known as region. The default is global.\n",
    "  # This is required if using a Cognitive Services resource.\n",
    "  location = \"eastus\"\n",
    "\n",
    "  path = '/translate'\n",
    "  constructed_url = endpoint + path\n",
    "\n",
    "  params = {\n",
    "      'api-version': '3.0',\n",
    "      'from': 'en',\n",
    "      'to': ['kk']\n",
    "  }\n",
    "  constructed_url = endpoint + path\n",
    "\n",
    "  headers = {\n",
    "      'Ocp-Apim-Subscription-Key': subscription_key,\n",
    "      'Ocp-Apim-Subscription-Region': location,\n",
    "      'Content-type': 'application/json',\n",
    "      'X-ClientTraceId': str(uuid.uuid4())\n",
    "  }\n",
    "  \n",
    "  request = requests.post(constructed_url, params=params, headers=headers, json=body)\n",
    "  responses = request.json()\n",
    "  \n",
    "  translations = []\n",
    "  \n",
    "  for response in responses:\n",
    "    translations.append(response['translations'][0]['text'])\n",
    "  \n",
    "  df['TranslatedKZ']=translations\n",
    "  \n",
    "  return df"
   ]
  },
  {
   "cell_type": "code",
   "execution_count": 18,
   "metadata": {
    "application/vnd.databricks.v1+cell": {
     "inputWidgets": {},
     "nuid": "b1953778-f554-4811-b2a5-8fd155395142",
     "showTitle": false,
     "title": ""
    }
   },
   "outputs": [
    {
     "name": "stderr",
     "output_type": "stream",
     "text": [
      "c:\\Users\\ajakupov\\AppData\\Local\\Programs\\Python\\Python37\\lib\\site-packages\\ipykernel_launcher.py:38: SettingWithCopyWarning: \n",
      "A value is trying to be set on a copy of a slice from a DataFrame.\n",
      "Try using .loc[row_indexer,col_indexer] = value instead\n",
      "\n",
      "See the caveats in the documentation: https://pandas.pydata.org/pandas-docs/stable/user_guide/indexing.html#returning-a-view-versus-a-copy\n"
     ]
    },
    {
     "data": {
      "text/html": [
       "<div>\n",
       "<style scoped>\n",
       "    .dataframe tbody tr th:only-of-type {\n",
       "        vertical-align: middle;\n",
       "    }\n",
       "\n",
       "    .dataframe tbody tr th {\n",
       "        vertical-align: top;\n",
       "    }\n",
       "\n",
       "    .dataframe thead th {\n",
       "        text-align: right;\n",
       "    }\n",
       "</style>\n",
       "<table border=\"1\" class=\"dataframe\">\n",
       "  <thead>\n",
       "    <tr style=\"text-align: right;\">\n",
       "      <th></th>\n",
       "      <th>id</th>\n",
       "      <th>label</th>\n",
       "      <th>tweet</th>\n",
       "      <th>TranslatedKZ</th>\n",
       "    </tr>\n",
       "  </thead>\n",
       "  <tbody>\n",
       "    <tr>\n",
       "      <th>0</th>\n",
       "      <td>1</td>\n",
       "      <td>0</td>\n",
       "      <td>@user when a father is dysfunctional and is s...</td>\n",
       "      <td>@user әкесі қолайсыз болғанда және соншалықты...</td>\n",
       "    </tr>\n",
       "    <tr>\n",
       "      <th>1</th>\n",
       "      <td>2</td>\n",
       "      <td>0</td>\n",
       "      <td>@user @user thanks for #lyft credit i can't us...</td>\n",
       "      <td>@user @user #lyft несием үшін рахмет, себебі о...</td>\n",
       "    </tr>\n",
       "    <tr>\n",
       "      <th>2</th>\n",
       "      <td>3</td>\n",
       "      <td>0</td>\n",
       "      <td>bihday your majesty</td>\n",
       "      <td>бихдей сенің мәртебелің</td>\n",
       "    </tr>\n",
       "    <tr>\n",
       "      <th>3</th>\n",
       "      <td>4</td>\n",
       "      <td>0</td>\n",
       "      <td>#model   i love u take with u all the time in ...</td>\n",
       "      <td>#model мен сені үнемі урюда өзіңмен бірге алып...</td>\n",
       "    </tr>\n",
       "    <tr>\n",
       "      <th>4</th>\n",
       "      <td>5</td>\n",
       "      <td>0</td>\n",
       "      <td>factsguide: society now    #motivation</td>\n",
       "      <td>фактілер: қоғам қазір #motivation</td>\n",
       "    </tr>\n",
       "    <tr>\n",
       "      <th>...</th>\n",
       "      <td>...</td>\n",
       "      <td>...</td>\n",
       "      <td>...</td>\n",
       "      <td>...</td>\n",
       "    </tr>\n",
       "    <tr>\n",
       "      <th>95</th>\n",
       "      <td>96</td>\n",
       "      <td>0</td>\n",
       "      <td>@user i'll always hope that one day i'll get t...</td>\n",
       "      <td>@user мен әрқашан бір күні сені іліп аламын де...</td>\n",
       "    </tr>\n",
       "    <tr>\n",
       "      <th>96</th>\n",
       "      <td>97</td>\n",
       "      <td>0</td>\n",
       "      <td>#model   i love u take with u all the time in ...</td>\n",
       "      <td>#model мен сені үнемі урюда өзіңмен бірге алып...</td>\n",
       "    </tr>\n",
       "    <tr>\n",
       "      <th>97</th>\n",
       "      <td>98</td>\n",
       "      <td>0</td>\n",
       "      <td>couple having sex fat naked japanese girls</td>\n",
       "      <td>жыныстық майы бар ерлі-зайыптылар жапон қызд...</td>\n",
       "    </tr>\n",
       "    <tr>\n",
       "      <th>98</th>\n",
       "      <td>99</td>\n",
       "      <td>0</td>\n",
       "      <td>#hump on that    #hump day #humpersð© @ edwa...</td>\n",
       "      <td>#hump сол #hump күні #humpersð© @ Edwardsville...</td>\n",
       "    </tr>\n",
       "    <tr>\n",
       "      <th>99</th>\n",
       "      <td>100</td>\n",
       "      <td>0</td>\n",
       "      <td>personalised we... gbp 7.99 get here:  #shop #...</td>\n",
       "      <td>жекеленген біз... gbp 7.99 мына жерге кіріңіз:...</td>\n",
       "    </tr>\n",
       "  </tbody>\n",
       "</table>\n",
       "<p>100 rows × 4 columns</p>\n",
       "</div>"
      ],
      "text/plain": [
       "     id  label                                              tweet  \\\n",
       "0     1      0   @user when a father is dysfunctional and is s...   \n",
       "1     2      0  @user @user thanks for #lyft credit i can't us...   \n",
       "2     3      0                                bihday your majesty   \n",
       "3     4      0  #model   i love u take with u all the time in ...   \n",
       "4     5      0             factsguide: society now    #motivation   \n",
       "..  ...    ...                                                ...   \n",
       "95   96      0  @user i'll always hope that one day i'll get t...   \n",
       "96   97      0  #model   i love u take with u all the time in ...   \n",
       "97   98      0       couple having sex fat naked japanese girls     \n",
       "98   99      0  #hump on that    #hump day #humpersð© @ edwa...   \n",
       "99  100      0  personalised we... gbp 7.99 get here:  #shop #...   \n",
       "\n",
       "                                         TranslatedKZ  \n",
       "0    @user әкесі қолайсыз болғанда және соншалықты...  \n",
       "1   @user @user #lyft несием үшін рахмет, себебі о...  \n",
       "2                             бихдей сенің мәртебелің  \n",
       "3   #model мен сені үнемі урюда өзіңмен бірге алып...  \n",
       "4                   фактілер: қоғам қазір #motivation  \n",
       "..                                                ...  \n",
       "95  @user мен әрқашан бір күні сені іліп аламын де...  \n",
       "96  #model мен сені үнемі урюда өзіңмен бірге алып...  \n",
       "97    жыныстық майы бар ерлі-зайыптылар жапон қызд...  \n",
       "98  #hump сол #hump күні #humpersð© @ Edwardsville...  \n",
       "99  жекеленген біз... gbp 7.99 мына жерге кіріңіз:...  \n",
       "\n",
       "[100 rows x 4 columns]"
      ]
     },
     "execution_count": 18,
     "metadata": {},
     "output_type": "execute_result"
    }
   ],
   "source": [
    "translate_column(tweets.head(100))"
   ]
  },
  {
   "cell_type": "code",
   "execution_count": 19,
   "metadata": {
    "application/vnd.databricks.v1+cell": {
     "inputWidgets": {},
     "nuid": "a84241ff-da93-4e44-a281-fa3cd7897f99",
     "showTitle": false,
     "title": ""
    }
   },
   "outputs": [
    {
     "name": "stderr",
     "output_type": "stream",
     "text": [
      "c:\\Users\\ajakupov\\AppData\\Local\\Programs\\Python\\Python37\\lib\\site-packages\\ipykernel_launcher.py:38: SettingWithCopyWarning: \n",
      "A value is trying to be set on a copy of a slice from a DataFrame.\n",
      "Try using .loc[row_indexer,col_indexer] = value instead\n",
      "\n",
      "See the caveats in the documentation: https://pandas.pydata.org/pandas-docs/stable/user_guide/indexing.html#returning-a-view-versus-a-copy\n"
     ]
    }
   ],
   "source": [
    "translate_column(tweets.head(100)).to_csv('../data/translated_tweets.csv', sep='\\t', index=False)"
   ]
  },
  {
   "cell_type": "code",
   "execution_count": null,
   "metadata": {},
   "outputs": [],
   "source": []
  }
 ],
 "metadata": {
  "application/vnd.databricks.v1+notebook": {
   "dashboards": [],
   "language": "python",
   "notebookName": "Translator",
   "notebookOrigID": 3910702769789082,
   "widgets": {}
  },
  "interpreter": {
   "hash": "c93e25bb29f2c581f86e63e28081d9d45f4e5bbec04c95c67a364794f4c363da"
  },
  "kernelspec": {
   "display_name": "Python 3.7.9 64-bit",
   "language": "python",
   "name": "python3"
  },
  "language_info": {
   "codemirror_mode": {
    "name": "ipython",
    "version": 3
   },
   "file_extension": ".py",
   "mimetype": "text/x-python",
   "name": "python",
   "nbconvert_exporter": "python",
   "pygments_lexer": "ipython3",
   "version": "3.7.9"
  }
 },
 "nbformat": 4,
 "nbformat_minor": 1
}
